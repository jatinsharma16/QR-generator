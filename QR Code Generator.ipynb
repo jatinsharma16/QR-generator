{
 "cells": [
  {
   "cell_type": "markdown",
   "id": "bfa5a35f",
   "metadata": {},
   "source": [
    "#### Importing the libraries"
   ]
  },
  {
   "cell_type": "code",
   "execution_count": 1,
   "id": "f578ab82",
   "metadata": {},
   "outputs": [],
   "source": [
    "import qrcode\n",
    "from tkinter import *\n",
    "from PIL import Image, ImageTk"
   ]
  },
  {
   "cell_type": "markdown",
   "id": "5b39288c",
   "metadata": {},
   "source": [
    "#### Method to generate the QR and display it on the window"
   ]
  },
  {
   "cell_type": "code",
   "execution_count": 26,
   "id": "1a6222c6",
   "metadata": {},
   "outputs": [],
   "source": [
    "def generator():\n",
    "    global entry\n",
    "    input_text= entry.get()\n",
    "    label2.configure(text=input_text)\n",
    "    \n",
    "    qr = qrcode.QRCode(version=12, error_correction=qrcode.constants.ERROR_CORRECT_H, box_size=6, border=2)\n",
    "    qr.add_data(input_text)\n",
    "    qr.make(fit=True)\n",
    "    result = qr.make_image(fill = \"black\", back_color = \"white\")\n",
    "    result.save(\"result.png\")\n",
    "    \n",
    "    final_qr = PhotoImage(file = \"result.png\")\n",
    "    \n",
    "    label3.config(image = final_qr)\n",
    "    label3.image = final_qr"
   ]
  },
  {
   "cell_type": "code",
   "execution_count": 27,
   "id": "8e7020bd",
   "metadata": {},
   "outputs": [
    {
     "data": {
      "text/plain": [
       "''"
      ]
     },
     "execution_count": 27,
     "metadata": {},
     "output_type": "execute_result"
    }
   ],
   "source": [
    "#creating the window\n",
    "root = Tk()\n",
    "root.title(\"DYNAMIC QR GENERATOR\")\n",
    "root.rowconfigure(0, weight=1)\n",
    "root.columnconfigure(0,weight=1)\n",
    "root.geometry(\"550x550\")"
   ]
  },
  {
   "cell_type": "code",
   "execution_count": 28,
   "id": "bf902d4b",
   "metadata": {},
   "outputs": [],
   "source": [
    "#Creating the labels and the text field to enter the web address\n",
    "label1 = Label(root,text = \"Enter the web address!\")\n",
    "label1.config(font=(\"Courier\",20,\"bold\"))\n",
    "label1.pack()\n",
    "label2 = Label(root, text=\"\", font=(\"Courier 14 bold\"))\n",
    "label2.pack()\n",
    "entry = Entry(root, width= 40)\n",
    "entry.focus_set()\n",
    "entry.pack()\n",
    "input_text = entry.get()\n",
    "btn1 = Button(root, text = \"Generate QR\", command=generator)\n",
    "btn1.pack()\n",
    "temp_image = PhotoImage(file= \"initial_image.png\")\n",
    "label3 = Label(root, image = temp_image)\n",
    "label3.pack()"
   ]
  },
  {
   "cell_type": "code",
   "execution_count": 29,
   "id": "059a02ed",
   "metadata": {},
   "outputs": [],
   "source": [
    "root.mainloop()"
   ]
  },
  {
   "cell_type": "code",
   "execution_count": null,
   "id": "f4cbb1c6",
   "metadata": {},
   "outputs": [],
   "source": []
  }
 ],
 "metadata": {
  "kernelspec": {
   "display_name": "Python 3",
   "language": "python",
   "name": "python3"
  },
  "language_info": {
   "codemirror_mode": {
    "name": "ipython",
    "version": 3
   },
   "file_extension": ".py",
   "mimetype": "text/x-python",
   "name": "python",
   "nbconvert_exporter": "python",
   "pygments_lexer": "ipython3",
   "version": "3.8.8"
  }
 },
 "nbformat": 4,
 "nbformat_minor": 5
}
